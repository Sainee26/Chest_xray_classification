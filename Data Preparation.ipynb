{
 "cells": [
  {
   "cell_type": "code",
   "execution_count": 4,
   "id": "67627119",
   "metadata": {},
   "outputs": [],
   "source": [
    "import os\n",
    "import shutil\n",
    "from sklearn.model_selection import train_test_split\n",
    "\n",
    "def split_images(input_folder, output_folder, validation_size=0.1):\n",
    "    # Get the list of class folders\n",
    "    classes = os.listdir(input_folder)\n",
    "    \n",
    "    # Create training and validation folders\n",
    "    train_folder = os.path.join(output_folder, 'train')\n",
    "    val_folder = os.path.join(output_folder, 'validation')\n",
    "    \n",
    "    os.makedirs(train_folder, exist_ok=True)\n",
    "    os.makedirs(val_folder, exist_ok=True)\n",
    "\n",
    "    # Split each class into training and validation sets\n",
    "    for class_name in classes:\n",
    "        class_folder = os.path.join(input_folder, class_name)\n",
    "        images = os.listdir(class_folder)\n",
    "\n",
    "        train_images, val_images = train_test_split(images, test_size=validation_size, random_state=42)\n",
    "\n",
    "        # Create class folders in training and validation sets\n",
    "        train_class_folder = os.path.join(train_folder, class_name)\n",
    "        val_class_folder = os.path.join(val_folder, class_name)\n",
    "        os.makedirs(train_class_folder, exist_ok=True)\n",
    "        os.makedirs(val_class_folder, exist_ok=True)\n",
    "\n",
    "        # Copy images to the respective folders\n",
    "        for image in train_images:\n",
    "            src_path = os.path.join(class_folder, image)\n",
    "            dest_path = os.path.join(train_class_folder, image)\n",
    "            shutil.copy(src_path, dest_path)\n",
    "\n",
    "        for image in val_images:\n",
    "            src_path = os.path.join(class_folder, image)\n",
    "            dest_path = os.path.join(val_class_folder, image)\n",
    "            shutil.copy(src_path, dest_path)\n",
    "\n",
    "if __name__ == \"__main__\":\n",
    "    input_folder = r\"C:\\Users\\Dell\\Desktop\\Chest X-Ray Classification\\DATA\"\n",
    "    output_folder = r\"C:\\Users\\Dell\\Desktop\\Chest X-Ray Classification\\splitted_data\"\n",
    "\n",
    "    split_images(input_folder, output_folder)\n"
   ]
  },
  {
   "cell_type": "code",
   "execution_count": null,
   "id": "345228e0",
   "metadata": {},
   "outputs": [],
   "source": []
  }
 ],
 "metadata": {
  "kernelspec": {
   "display_name": "Python 3 (ipykernel)",
   "language": "python",
   "name": "python3"
  },
  "language_info": {
   "codemirror_mode": {
    "name": "ipython",
    "version": 3
   },
   "file_extension": ".py",
   "mimetype": "text/x-python",
   "name": "python",
   "nbconvert_exporter": "python",
   "pygments_lexer": "ipython3",
   "version": "3.9.13"
  }
 },
 "nbformat": 4,
 "nbformat_minor": 5
}
